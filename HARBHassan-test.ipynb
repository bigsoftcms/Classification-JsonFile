{
 "cells": [
  {
   "cell_type": "code",
   "execution_count": 22,
   "metadata": {},
   "outputs": [],
   "source": [
    "import pandas as pd\n",
    "import numpy as np\n",
    "import json\n",
    "import random"
   ]
  },
  {
   "cell_type": "code",
   "execution_count": 23,
   "metadata": {},
   "outputs": [],
   "source": [
    "#Lecture des fichier labels.json et issues.json\n",
    "\n",
    "donnees = pd.read_json('labels.json')\n",
    "donnees_2 = pd.read_json('issues.json')\n",
    "\n",
    "#donnees_2.head(5)"
   ]
  },
  {
   "cell_type": "code",
   "execution_count": 24,
   "metadata": {
    "scrolled": true
   },
   "outputs": [],
   "source": [
    "#Quelques tests pour analyser et comprendre le fonctionnement des fichiers.\n",
    "\n",
    "d={}\n",
    "f={}\n",
    "\n",
    "for i in range(len(donnees)):\n",
    "    if (donnees[\"name\"][i] == 'bug'):\n",
    "        d[\"id\"]=donnees[\"id\"][i]\n",
    "#print d\n",
    "#print\n",
    "\n",
    "for i in range(len(donnees)):\n",
    "    if (donnees[\"name\"][i] == 'feature-request'):\n",
    "        f[\"id\"]=donnees[\"id\"][i]\n",
    "#print f"
   ]
  },
  {
   "cell_type": "code",
   "execution_count": 25,
   "metadata": {},
   "outputs": [],
   "source": [
    "#Pareil.\n",
    "\n",
    "for j in range(len(donnees_2)):\n",
    "    for i in range(len(donnees_2[\"labels\"][j])):\n",
    "        if (donnees_2[\"labels\"][j][i][\"name\"] == 'bug'):\n",
    "            d[\"id\"]=donnees_2[\"labels\"][j][i][\"id\"]\n",
    "            d[\"color\"]=donnees_2[\"labels\"][j][i][\"color\"]\n",
    "            d[\"node_id\"]=donnees_2[\"labels\"][j][i][\"node_id\"]\n",
    "            d[\"url\"]=donnees_2[\"labels\"][j][i][\"url\"]\n",
    "            \n",
    "        if(donnees_2[\"labels\"][j][i][\"name\"] ==\"feature-request\"):\n",
    "            f[\"id\"]=donnees_2[\"labels\"][j][i][\"id\"]\n",
    "            f[\"color\"]=donnees_2[\"labels\"][j][i][\"color\"]\n",
    "            f[\"node_id\"]=donnees_2[\"labels\"][j][i][\"node_id\"]\n",
    "            f[\"url\"]=donnees_2[\"labels\"][j][i][\"url\"]\n",
    "#print 'bug: '+str(d)\n",
    "#print\n",
    "#print 'feat: '+str(f)"
   ]
  },
  {
   "cell_type": "code",
   "execution_count": 26,
   "metadata": {},
   "outputs": [],
   "source": [
    "#Les differents labels existant.\n",
    "\n",
    "#for j in range(len(donnees_2)):\n",
    "#    for i in range(len(donnees_2[\"labels\"][j])):\n",
    "#        print donnees_2[\"labels\"][j][i][\"name\"]"
   ]
  },
  {
   "cell_type": "code",
   "execution_count": 27,
   "metadata": {
    "scrolled": false
   },
   "outputs": [],
   "source": [
    "class LabeledSet:  \n",
    "    \n",
    "    def __init__(self, input_dimension):\n",
    "        self.input_dimension = input_dimension\n",
    "        self.nb_examples = 0\n",
    "    \n",
    "    def addExample(self,vector,label):\n",
    "        if (self.nb_examples == 0):\n",
    "            self.x = np.array([vector])\n",
    "            self.y = np.array([label])\n",
    "        else:\n",
    "            self.x = np.vstack((self.x, vector))\n",
    "            self.y = np.vstack((self.y, label))\n",
    "        \n",
    "        self.nb_examples = self.nb_examples + 1\n",
    "    \n",
    "    #Renvoie le nombre d'exemples dans le set\n",
    "    def size(self):\n",
    "        return self.nb_examples\n",
    "    \n",
    "    #Renvoie la valeur de x_i\n",
    "    def getX(self, i):\n",
    "        return self.x[i]\n",
    "        \n",
    "    \n",
    "    #Renvoie la valeur de y_i\n",
    "    def getY(self, i):\n",
    "        return(self.y[i])\n",
    "    "
   ]
  },
  {
   "cell_type": "code",
   "execution_count": 28,
   "metadata": {},
   "outputs": [],
   "source": [
    "#Class générale des classifiers.\n",
    "\n",
    "class Classifier:\n",
    "    def __init__(self,input_dimension):\n",
    "        \"\"\" Constructeur \"\"\"\n",
    "        raise NotImplementedError(\"Please Implement this method\")\n",
    "    \n",
    "    \n",
    "    # Permet de calculer la prediction sur x => renvoie un score\n",
    "    def predict(self,x):\n",
    "        raise NotImplementedError(\"Please Implement this method\")\n",
    "\n",
    "    \n",
    "    # Permet d'entrainer le modele sur un ensemble de données\n",
    "    def train(self,labeledSet):\n",
    "        raise NotImplementedError(\"Please Implement this method\")\n",
    "    "
   ]
  },
  {
   "cell_type": "code",
   "execution_count": 29,
   "metadata": {},
   "outputs": [],
   "source": [
    "#Création de deux LabeledSet, pour l'entrainement du modéle et pour le test.\n",
    "\n",
    "learning_set=LabeledSet(4)\n",
    "accuracy_set = LabeledSet(4)"
   ]
  },
  {
   "cell_type": "code",
   "execution_count": 30,
   "metadata": {},
   "outputs": [],
   "source": [
    "#Entrainement du modéle sur les fichiers issues.json et labels.json stocker dans donnees_2 et donnees\n",
    "\n",
    "#Sur issues.json\n",
    "for j in range(len(donnees_2)):\n",
    "    for i in range(len(donnees_2[\"labels\"][j])):\n",
    "        #Si le nom du label est 'bug' ou 'feature-request'\n",
    "        if (donnees_2[\"labels\"][j][i][\"name\"] == 'bug' or donnees_2[\"labels\"][j][i][\"name\"] ==\"feature-request\"):\n",
    "            learning_set.addExample((donnees_2[\"labels\"][j][i][\"name\"],donnees_2[\"labels\"][j][i][\"id\"], donnees_2[\"labels\"][j][i][\"color\"], donnees_2[\"labels\"][j][i][\"node_id\"]), 1)\n",
    "        #Sinon -1\n",
    "        else:\n",
    "            learning_set.addExample((donnees_2[\"labels\"][j][i][\"name\"],donnees_2[\"labels\"][j][i][\"id\"], donnees_2[\"labels\"][j][i][\"color\"], donnees_2[\"labels\"][j][i][\"node_id\"]), -1)\n",
    "\n",
    "#Sur labels.json\n",
    "for i in range(len(donnees)):\n",
    "    if (donnees[\"name\"][i] == 'bug' or donnees[\"name\"][i] == 'feature_request'):\n",
    "        learning_set.addExample((donnees[\"name\"][i], donnees[\"id\"][i], donnees[\"color\"][i], donnees[\"node_id\"][i]), 1)\n",
    "    else:\n",
    "        learning_set.addExample((donnees[\"name\"][i], donnees[\"id\"][i], donnees[\"color\"][i], donnees[\"node_id\"][i]), -1)\n"
   ]
  },
  {
   "cell_type": "code",
   "execution_count": 31,
   "metadata": {},
   "outputs": [],
   "source": [
    "#LabeledSet pour le test sur la deuxiéme partie des fichiers.\n",
    "\n",
    "for j in range((len(donnees_2)/2),len(donnees_2)):\n",
    "    for i in range(len(donnees_2[\"labels\"][j])):\n",
    "        if (donnees_2[\"labels\"][j][i][\"name\"] == 'bug' or donnees_2[\"labels\"][j][i][\"name\"] ==\"feature-request\"):\n",
    "            accuracy_set.addExample((donnees_2[\"labels\"][j][i][\"name\"],donnees_2[\"labels\"][j][i][\"id\"], donnees_2[\"labels\"][j][i][\"color\"], donnees_2[\"labels\"][j][i][\"node_id\"]), 1)\n",
    "        else:\n",
    "            accuracy_set.addExample((donnees_2[\"labels\"][j][i][\"name\"],donnees_2[\"labels\"][j][i][\"id\"], donnees_2[\"labels\"][j][i][\"color\"], donnees_2[\"labels\"][j][i][\"node_id\"]), 1)\n",
    "\n",
    "for i in range(len(donnees)/2,len(donnees)):\n",
    "    if (donnees[\"name\"][i] == 'bug' or donnees[\"name\"][i] == 'feature_request'):\n",
    "        accuracy_set.addExample((donnees[\"name\"][i], donnees[\"id\"][i], donnees[\"color\"][i], donnees[\"node_id\"][i]), 1)\n",
    "    else:\n",
    "        accuracy_set.addExample((donnees[\"name\"][i], donnees[\"id\"][i], donnees[\"color\"][i], donnees[\"node_id\"][i]), -1)"
   ]
  },
  {
   "cell_type": "code",
   "execution_count": 32,
   "metadata": {},
   "outputs": [],
   "source": [
    "class mon_Classifier(Classifier):\n",
    "    def __init__(self, input_dimension,lset):\n",
    "        self.input_dimension = input_dimension\n",
    "        self.data = []\n",
    "        self.labeledSet = lset\n",
    "    \n",
    "    #Entrainement du modéle.\n",
    "    def train(self, labeledSet):\n",
    "        for i in range(labeledSet.size()):\n",
    "            self.data.append((labeledSet.getX(i), labeledSet.getY(i)))\n",
    "        \n",
    "    #Prédiction     \n",
    "    def predict(self):\n",
    "        for i in range(len(self.data)):\n",
    "            if (self.data[i][1][0]>0):\n",
    "                print \"Label: \"+str(self.data[i][0][0])+\", id: \"+str(self.data[i][0][1])+\", indice: \"+str(i)\n",
    "                \n",
    "                \n",
    "    #Test chaque élément d'un LabeledSet, s'il est inclus ou non dans notre base d'apprentissage(data),\n",
    "    #Cad si ce dernier est un label sous nom 'bug' ou 'feature-request'\n",
    "    #Et renvois les indices de ce labeledSet étant des labels 'bug' ou 'feature-request'\n",
    "    def estInclus(self,labeledSet):\n",
    "        d=[]\n",
    "        for i in range(labeledSet.size()):\n",
    "            for m in range(len(self.data)):\n",
    "                #Si c'est 1, on test\n",
    "                if (self.data[m][1][0]>0):\n",
    "                    #print self.data[m][0][0]\n",
    "                    #print labeledSet.getX(i)[0]\n",
    "                    if(labeledSet.getX(i)[0]==self.data[m][0][0]):\n",
    "                        d.append(i)\n",
    "                    \n",
    "        for i in range(len(d)-1):\n",
    "            if(d[i+1]!=d[i]):\n",
    "                print \"indice: \"+str(d[i])\n",
    " \n",
    "\n",
    "    def affiche_indice(self,i):\n",
    "        print \"i:\"+str(self.data[i])"
   ]
  },
  {
   "cell_type": "code",
   "execution_count": 33,
   "metadata": {},
   "outputs": [
    {
     "name": "stdout",
     "output_type": "stream",
     "text": [
      "\n",
      "\n",
      "indice: 3\n",
      "indice: 5\n",
      "indice: 9\n",
      "indice: 16\n"
     ]
    }
   ],
   "source": [
    "k= mon_Classifier(4, learning_set)\n",
    "k.train(learning_set)\n",
    "#k.affiche_indice(4)\n",
    "print\n",
    "#k.predict()\n",
    "print\n",
    "k.estInclus(accuracy_set)"
   ]
  },
  {
   "cell_type": "code",
   "execution_count": null,
   "metadata": {},
   "outputs": [],
   "source": []
  }
 ],
 "metadata": {
  "kernelspec": {
   "display_name": "Python 2",
   "language": "python",
   "name": "python2"
  },
  "language_info": {
   "codemirror_mode": {
    "name": "ipython",
    "version": 2
   },
   "file_extension": ".py",
   "mimetype": "text/x-python",
   "name": "python",
   "nbconvert_exporter": "python",
   "pygments_lexer": "ipython2",
   "version": "2.7.12"
  }
 },
 "nbformat": 4,
 "nbformat_minor": 2
}
